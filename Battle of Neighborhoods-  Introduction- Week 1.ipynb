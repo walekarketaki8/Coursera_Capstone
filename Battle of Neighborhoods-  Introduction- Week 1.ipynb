{
 "cells": [
  {
   "cell_type": "markdown",
   "metadata": {},
   "source": [
    "## The Battle of Neighborhoods (Week 1)"
   ]
  },
  {
   "cell_type": "markdown",
   "metadata": {},
   "source": [
    "###  Introduction and Data Sections"
   ]
  },
  {
   "cell_type": "markdown",
   "metadata": {},
   "source": [
    "# 1.\tIntroduction Section : \n",
    "### Discussion of the business problem and the audience who would be interested in this project.\n"
   ]
  },
  {
   "cell_type": "markdown",
   "metadata": {},
   "source": [
    "### Description of the Problem and Background\n",
    "\n",
    "### Scenario:\n",
    "\n",
    "Person residing in Downtown Singapore, live within walking distance to Downtown Telok Ayer MRT metro station and  enjoy many ammenities and venues in the area, such as various international cousine restaurants, cafes, food shops and entertainment.\n",
    "Person offered a great opportunity to work for a leader firm in Manhattan, NY.\n",
    "\n",
    "The key question is :  Find a convenient and enjoyable place similar to mine now in Singapore?\n",
    "\n",
    "In order to make a comparison and evaluation of the rental options in Manhattan NY,  the apartment in Manhattan must meet the following demands:\n",
    " - apartment must be 2 or 3 bedrooms\n",
    " - desired location is near a metro station in the Manhattan area and within 1.0 mile (1.6 km) radius\n",
    " - price of rent not exceed $7,000 per month\n",
    " - top ammenities in the selected neighborhood shall be similar to current residence\n",
    " - desirable to have venues such as coffee shops, restaurants Asian Thai, wine stores, gym and food shops\n",
    " - as a reference, included a map of venues near current residence in Singapore."
   ]
  },
  {
   "cell_type": "markdown",
   "metadata": {},
   "source": [
    "### Business Problem:   \n",
    "The challenge is to find a suitable apartment for rent in Manhattan NY that complies with the demands on location, price and venues.\n",
    "\n",
    "\n",
    "### Interested Audience\n",
    "Relevant challenge with valid questions for anyone moving to other large city in US, EU or Asia. The same methodology can be applied in accordance to demands as applicable. This case is also applicable for anyone interested in exploring starting or locating a new business in any city. Lastly, it can also serve as a good practical exercise to develop Data Science skills.\n"
   ]
  },
  {
   "cell_type": "code",
   "execution_count": null,
   "metadata": {},
   "outputs": [],
   "source": []
  }
 ],
 "metadata": {
  "kernelspec": {
   "display_name": "Python 3",
   "language": "python",
   "name": "python3"
  },
  "language_info": {
   "codemirror_mode": {
    "name": "ipython",
    "version": 3
   },
   "file_extension": ".py",
   "mimetype": "text/x-python",
   "name": "python",
   "nbconvert_exporter": "python",
   "pygments_lexer": "ipython3",
   "version": "3.7.2"
  }
 },
 "nbformat": 4,
 "nbformat_minor": 2
}
