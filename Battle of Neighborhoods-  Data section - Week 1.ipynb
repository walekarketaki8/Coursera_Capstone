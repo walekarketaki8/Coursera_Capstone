{
 "cells": [
  {
   "cell_type": "markdown",
   "metadata": {},
   "source": [
    "## The Battle of Neighborhoods (Week 1)"
   ]
  },
  {
   "cell_type": "markdown",
   "metadata": {},
   "source": [
    "# Data Section:¶\n",
    "### Description of the data and its sources that will be used to solve the problem"
   ]
  },
  {
   "cell_type": "markdown",
   "metadata": {},
   "source": [
    "### Description of the Data:¶\n",
    "\n",
    "The following data is required to  answer the issues of the problem:\n",
    "\n",
    "- List of Boroughs and neighborhoods of Manhattan with their geodata (latitud and longitud) \n",
    "- List of Subway metro stations in Manhattan with their address location \n",
    "- List of apartments for rent in Manhattan area with their addresses and price\n",
    "- Preferably, a list of apartment for rent with additional information, such as price, address, area, # of beds, etc\n",
    "- Venues for each Manhattan neighborhood ( than can be clustered)\n",
    "- Venues for subway metro stations, as needed\n",
    "\n",
    "\n",
    "### How the data will be used to solve the problem\n",
    "\n",
    "The data will be used as follows:\n",
    "- Use Foursquare and geopy data to map top 10 venues for all Manhattan neighborhoods and clustered in groups ( as per Course LAB)\n",
    "- Use foursquare and geopy data to map the location of subway metro stations , separately and on top of the above clustered map in order to be able to identify the venues and ammenities near each metro station, or explore each subway location separately\n",
    "- Use Foursquare and geopy data to map the location of rental places, in some form, linked to the subway locations.\n",
    "- create a map that depicts, for instance, the average rental price per square ft, around a radious of 1.0 mile (1.6 km) around each subway station - or a similar metrics. I will be able to quickly point to the popups to know the relative price per subway area.\n",
    "- Addresses from rental locations will be converted to geodata( lat, long) using Geopy-distance and Nominatim.\n",
    "- Data will be searched in open data sources if available, from real estate sites if open to reading, libraries or other government agencies such as Metro New York MTA, etc.\n",
    "\n",
    "\n",
    "The procesing of these DATA will allow to answer the key questions to make a decision:\n",
    "- what is the cost of rent (per square ft) around a mile radius from each subway metro station?\n",
    "- what is the area of Manhattan with best rental pricing that meets criteria established?\n",
    "- What is the distance from work place ( Park Ave and 53 rd St) and the tentative future home?\n",
    "- What are the venues of the two best places to live? How the prices compare?\n",
    "- How venues distribute among Manhattan neighborhoods and around metro stations?\n",
    "- Are there tradeoffs between size and price and location?\n",
    "- Any other interesting statistical data findings of the real estate and overall data.\n",
    "\n"
   ]
  }
 ],
 "metadata": {
  "kernelspec": {
   "display_name": "Python 3",
   "language": "python",
   "name": "python3"
  },
  "language_info": {
   "codemirror_mode": {
    "name": "ipython",
    "version": 3
   },
   "file_extension": ".py",
   "mimetype": "text/x-python",
   "name": "python",
   "nbconvert_exporter": "python",
   "pygments_lexer": "ipython3",
   "version": "3.7.2"
  }
 },
 "nbformat": 4,
 "nbformat_minor": 2
}
